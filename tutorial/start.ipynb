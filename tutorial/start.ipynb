{
 "cells": [
  {
   "cell_type": "markdown",
   "id": "15535787-de37-47fe-9231-d20ba3e8ce45",
   "metadata": {},
   "source": [
    "# TUTORIAL"
   ]
  },
  {
   "cell_type": "markdown",
   "id": "f62541d9-3e6a-445c-b1e9-a7eae2e8eb5c",
   "metadata": {
    "tags": []
   },
   "source": [
    "# Example use-cases of this Text-Fabric dataset\n",
    "\n",
    "The following are several use-case examples that demonstrate the utilization of the Text-Fabric dataset, While Text-Fabric, which is implemented as a Python package, can be employed in any stand-alone Python script, it is commonly utilized from within a [Jupyter Notebook](https://jupyter.org) — an interactive web-based computational environment enabling users to create and share documents with live code, visualizations, and text, thus facilitating the inclusion of explanatory notes alongside queries and results obtained from Text-Fabric. The Notebooks are grouped into specific focus areas and topics, albeit somewhat arbitrarily.\n",
    "\n",
    "**Please note that some of these notebooks are still under development.**\n",
    "\n",
    "## Basic / general\n",
    "\n",
    "* [Load Text-Fabric in Jupyter notebook](https://nbviewer.org/github/tonyjurg/Nestle1904LFT/blob/tutorial/usecases/load_text_fabric.ipynb)\n",
    "* [Print a specific verse](https://nbviewer.org/github/tonyjurg/Nestle1904LFT/blob/main/tutorial/print_verse.ipynb)\n",
    "* [Some system statistics](https://nbviewer.org/github/tonyjurg/Nestle1904LFT/blob/main/tutorial/Some_system_statistics.ipynb)\n",
    "* [Some corpus statistics](https://nbviewer.org/github/tonyjurg/Nestle1904LFT/blob/main/tutorial/Some_corpus_statistics.ipynb)\n",
    "* [Various text formats](https://nbviewer.org/github/tonyjurg/Nestle1904LFT/blob/tutorial/usecases/various_text_formats.ipynb)\n",
    "\n",
    "## Grammatical\n",
    "\n",
    "* [The particles μέν and δέ](https://nbviewer.org/github/tonyjurg/Nestle1904LFT/blob/main/tutorial/particles_men_and_de.ipynb)\n",
    "* [The use of μονογενής](https://nbviewer.org/github/tonyjurg/Nestle1904LFT/blob/main/tutorial/use_of_monogenes.ipynb)\n",
    "* [The use of προσκυνέω](https://nbviewer.org/github/tonyjurg/Nestle1904LFT/blob/main/tutorial/use_of_proskyneo.ipynb)\n",
    "* [Incongruenct adverb and noun](https://nbviewer.org/github/tonyjurg/Nestle1904LFT/blob/tutorial/usecases/incongruent_adverb_noun.ipynb)\n",
    "* [Pronominal redundancy](https://nbviewer.org/github/tonyjurg/Nestle1904LFT/blob/main/tutorial/pronominal_redundancy.ipynb)\n",
    "\n",
    "## Syntactical \n",
    "\n",
    "* [Genitive objectivus or subjectivus](https://nbviewer.org/github/tonyjurg/Nestle1904LFT/blob/main/tutorial/genitive_objectivus_or_subjectivus.ipynb)\n",
    "* [The Granville Sharp rule](https://nbviewer.org/github/tonyjurg/Nestle1904LFT/blob/tutorial/usecases/Granville_Sharp_rule.ipynb)\n",
    "* [Articulated proper nouns](https://nbviewer.org/github/tonyjurg/Nestle1904LFT/blob/tutorial/usecases/articulated_proper_nouns.ipynb)\n",
    "* [Constituents order and phrase structure](https://nbviewer.org/github/tonyjurg/Nestle1904LFT/blob/main/tutorial/constituents_order_and_phrase_structure.ipynb)\n",
    "* [Repetition of nouns](https://nbviewer.org/github/tonyjurg/Nestle1904LFT/blob/main/tutorial/repetition_of_nouns.ipynb)\n",
    "* [Appositions](https://nbviewer.org/github/tonyjurg/Nestle1904LFT/blob/main/tutorial/appositions.ipynb)\n",
    "* [Speaking to objects](https://nbviewer.org/github/tonyjurg/Nestle1904LFT/blob/main/tutorial/find_objects.ipynb)\n",
    "\n",
    "## Advanced\n",
    "  \n",
    "* [Advanced search options](https://nbviewer.org/github/tonyjurg/Nestle1904LFT/blob/tutorial/usecases/advanced_search_options.ipynb)\n",
    "* [Data is interpretation](https://nbviewer.org/github/tonyjurg/Nestle1904LFT/blob/tutorial/usecases/interpretation.ipynb)\n"
   ]
  }
 ],
 "metadata": {
  "kernelspec": {
   "display_name": "Python 3 (ipykernel)",
   "language": "python",
   "name": "python3"
  },
  "language_info": {
   "codemirror_mode": {
    "name": "ipython",
    "version": 3
   },
   "file_extension": ".py",
   "mimetype": "text/x-python",
   "name": "python",
   "nbconvert_exporter": "python",
   "pygments_lexer": "ipython3",
   "version": "3.11.5"
  }
 },
 "nbformat": 4,
 "nbformat_minor": 5
}
