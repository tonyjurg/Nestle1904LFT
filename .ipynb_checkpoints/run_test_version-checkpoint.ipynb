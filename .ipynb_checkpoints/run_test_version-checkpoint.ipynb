{
 "cells": [
  {
   "cell_type": "code",
   "execution_count": null,
   "id": "2ad1e9ba-b6d6-461b-88b6-8f70b5af1e82",
   "metadata": {},
   "outputs": [],
   "source": [
    "import os\n",
    "from tf.convert.xml import XML\n",
    "\n",
    "\n",
    "TEST_SET = set(\n",
    "    \"\"\"\n",
    "    26-jude.xml\n",
    "    \"\"\".strip().split()\n",
    ")\n",
    "\n",
    "AUTHOR = \"Evangelists and apostles\"\n",
    "TITLE = \"Greek New Testament\"\n",
    "INSTITUTE = \"ETCBC (Eep Talstra Centre for Bible and Computer)\"\n",
    "\n",
    "GENERIC = dict(\n",
    "    author=AUTHOR,\n",
    "    title=TITLE,\n",
    "    institute=INSTITUTE,\n",
    "    language=\"nl\",\n",
    "    converters=\"Dirk Roorda et al. (Text-Fabric)\",\n",
    "    sourceFormat=\"XML (lowfat)\",\n",
    "    descriptionTf=\"Nestle 1904 edition\",\n",
    ")\n",
    "\n",
    "\n",
    "def transform(text):\n",
    "    return text\n",
    "\n",
    "\n",
    "X = XML(\n",
    "    sourceVersion=\"nestle1904\",\n",
    "    testSet=TEST_SET,\n",
    "    generic=GENERIC,\n",
    "    transform=transform,\n",
    "    tfVersion=\"0.1\",\n",
    ")\n",
    "\n",
    "X.run(os.path.basename(__file__))"
   ]
  }
 ],
 "metadata": {
  "kernelspec": {
   "display_name": "Python 3 (ipykernel)",
   "language": "python",
   "name": "python3"
  },
  "language_info": {
   "codemirror_mode": {
    "name": "ipython",
    "version": 3
   },
   "file_extension": ".py",
   "mimetype": "text/x-python",
   "name": "python",
   "nbconvert_exporter": "python",
   "pygments_lexer": "ipython3",
   "version": "3.9.12"
  }
 },
 "nbformat": 4,
 "nbformat_minor": 5
}
