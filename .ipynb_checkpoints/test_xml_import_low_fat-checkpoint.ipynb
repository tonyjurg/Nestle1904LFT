{
 "cells": [
  {
   "cell_type": "code",
   "execution_count": 7,
   "id": "2ad1e9ba-b6d6-461b-88b6-8f70b5af1e82",
   "metadata": {},
   "outputs": [
    {
     "name": "stdout",
     "output_type": "stream",
     "text": [
      "Working in repository Read_from_lowfat/. in backend my_new_Jupyter_folder\n",
      "\n",
      "        Convert XML to TF.\n",
      "        There are also commands to check the XML and to load the TF.\n",
      "\n",
      "        python3 Read_from_lowfat [tasks/flags] [--help]\n",
      "\n",
      "        --help: show this text and exit\n",
      "\n",
      "        tasks:\n",
      "            a sequence of tasks:\n",
      "            check:\n",
      "                just reports on the elements in the source.\n",
      "            convert:\n",
      "                just converts XML to TF\n",
      "            load:\n",
      "                just loads the generated TF;\n",
      "\n",
      "        flags:\n",
      "            test:\n",
      "                run in test mode\n",
      "        \n",
      "Illegal argument `C:/Users/tonyj/AppData/Roaming/jupyter/runtime/kernel-5d0f5aa3-aa03-48e4-b001-990f2d5e42bd.json`\n",
      "Illegal argument `-f`\n"
     ]
    },
    {
     "ename": "SystemExit",
     "evalue": "-1",
     "output_type": "error",
     "traceback": [
      "An exception has occurred, use %tb to see the full traceback.\n",
      "\u001b[1;31mSystemExit\u001b[0m\u001b[1;31m:\u001b[0m -1\n"
     ]
    },
    {
     "name": "stderr",
     "output_type": "stream",
     "text": [
      "C:\\Users\\tonyj\\anaconda3\\lib\\site-packages\\IPython\\core\\interactiveshell.py:3377: UserWarning: To exit: use 'exit', 'quit', or Ctrl-D.\n",
      "  warn(\"To exit: use 'exit', 'quit', or Ctrl-D.\", stacklevel=1)\n"
     ]
    }
   ],
   "source": [
    "import os\n",
    "from tf.convert.xml import XML\n",
    "\n",
    "#sourceDir= \"input_xml\"\n",
    "__file__=\"C:\\\\Users\\\\tonyj\\\\my_new_Jupyter_folder\\\\Read_from_lowfat\"\n",
    "\n",
    "TEST_SET = set(\n",
    "    \"\"\"\n",
    "    26-jude.xml\n",
    "    \"\"\".strip().split()\n",
    ")\n",
    "\n",
    "AUTHOR = \"Evangelists and apostles\"\n",
    "TITLE = \"Greek New Testament\"\n",
    "INSTITUTE = \"ETCBC (Eep Talstra Centre for Bible and Computer)\"\n",
    "\n",
    "GENERIC = dict(\n",
    "    author=AUTHOR,\n",
    "    title=TITLE,\n",
    "    institute=INSTITUTE,\n",
    "    language=\"nl\",\n",
    "    converters=\"Dirk Roorda et al. (Text-Fabric)\",\n",
    "    sourceFormat=\"XML (lowfat)\",\n",
    "    descriptionTf=\"Nestle 1904 edition\",\n",
    ")\n",
    "\n",
    "\n",
    "def transform(text):\n",
    "    return text\n",
    "\n",
    "\n",
    "X = XML(\n",
    "    sourceVersion=\"input_xml\",\n",
    "    testSet=TEST_SET,\n",
    "    generic=GENERIC,\n",
    "    transform=transform,\n",
    "    tfVersion=\"0.1\",\n",
    ")\n",
    "\n",
    "X.run(os.path.basename(__file__))"
   ]
  },
  {
   "cell_type": "code",
   "execution_count": 8,
   "id": "afeafc59-d786-40a1-9d66-31e6088754ac",
   "metadata": {},
   "outputs": [
    {
     "ename": "SystemExit",
     "evalue": "-1",
     "output_type": "error",
     "traceback": [
      "\u001b[1;31m---------------------------------------------------------------------------\u001b[0m",
      "\u001b[1;31mSystemExit\u001b[0m                                Traceback (most recent call last)",
      "Input \u001b[1;32mIn [7]\u001b[0m, in \u001b[0;36m<cell line: 40>\u001b[1;34m()\u001b[0m\n\u001b[0;32m     29\u001b[0m     \u001b[38;5;28;01mreturn\u001b[39;00m text\n\u001b[0;32m     32\u001b[0m X \u001b[38;5;241m=\u001b[39m XML(\n\u001b[0;32m     33\u001b[0m     sourceVersion\u001b[38;5;241m=\u001b[39m\u001b[38;5;124m\"\u001b[39m\u001b[38;5;124minput_xml\u001b[39m\u001b[38;5;124m\"\u001b[39m,\n\u001b[0;32m     34\u001b[0m     testSet\u001b[38;5;241m=\u001b[39mTEST_SET,\n\u001b[1;32m   (...)\u001b[0m\n\u001b[0;32m     37\u001b[0m     tfVersion\u001b[38;5;241m=\u001b[39m\u001b[38;5;124m\"\u001b[39m\u001b[38;5;124m0.1\u001b[39m\u001b[38;5;124m\"\u001b[39m,\n\u001b[0;32m     38\u001b[0m )\n\u001b[1;32m---> 40\u001b[0m \u001b[43mX\u001b[49m\u001b[38;5;241;43m.\u001b[39;49m\u001b[43mrun\u001b[49m\u001b[43m(\u001b[49m\u001b[43mos\u001b[49m\u001b[38;5;241;43m.\u001b[39;49m\u001b[43mpath\u001b[49m\u001b[38;5;241;43m.\u001b[39;49m\u001b[43mbasename\u001b[49m\u001b[43m(\u001b[49m\u001b[38;5;18;43m__file__\u001b[39;49m\u001b[43m)\u001b[49m\u001b[43m)\u001b[49m\n",
      "File \u001b[1;32m~\\anaconda3\\lib\\site-packages\\tf\\convert\\xml.py:1026\u001b[0m, in \u001b[0;36mXML.run\u001b[1;34m(self, program)\u001b[0m\n\u001b[0;32m   1024\u001b[0m     \u001b[38;5;28;01mfor\u001b[39;00m arg \u001b[38;5;129;01min\u001b[39;00m illegalArgs:\n\u001b[0;32m   1025\u001b[0m         console(\u001b[38;5;124mf\u001b[39m\u001b[38;5;124m\"\u001b[39m\u001b[38;5;124mIllegal argument `\u001b[39m\u001b[38;5;132;01m{\u001b[39;00marg\u001b[38;5;132;01m}\u001b[39;00m\u001b[38;5;124m`\u001b[39m\u001b[38;5;124m\"\u001b[39m)\n\u001b[1;32m-> 1026\u001b[0m     \u001b[43msys\u001b[49m\u001b[38;5;241;43m.\u001b[39;49m\u001b[43mexit\u001b[49m\u001b[43m(\u001b[49m\u001b[38;5;241;43m-\u001b[39;49m\u001b[38;5;241;43m1\u001b[39;49m\u001b[43m)\u001b[49m\n\u001b[0;32m   1028\u001b[0m tasks \u001b[38;5;241m=\u001b[39m {arg: \u001b[38;5;28;01mTrue\u001b[39;00m \u001b[38;5;28;01mfor\u001b[39;00m arg \u001b[38;5;129;01min\u001b[39;00m args \u001b[38;5;28;01mif\u001b[39;00m arg \u001b[38;5;129;01min\u001b[39;00m possibleTasks}\n\u001b[0;32m   1029\u001b[0m flags \u001b[38;5;241m=\u001b[39m {arg: \u001b[38;5;28;01mTrue\u001b[39;00m \u001b[38;5;28;01mfor\u001b[39;00m arg \u001b[38;5;129;01min\u001b[39;00m args \u001b[38;5;28;01mif\u001b[39;00m arg \u001b[38;5;129;01min\u001b[39;00m possibleFlags}\n",
      "\u001b[1;31mSystemExit\u001b[0m: -1"
     ]
    }
   ],
   "source": [
    "%tb"
   ]
  },
  {
   "cell_type": "code",
   "execution_count": 9,
   "id": "5261545f-4e53-470e-8e89-fb31ffc91fa8",
   "metadata": {},
   "outputs": [
    {
     "name": "stderr",
     "output_type": "stream",
     "text": [
      "python3: can't open file 'C:\\\\Users\\\\tonyj\\\\my_new_Jupyter_folder\\\\Read_from_lowfat\\\\Read_from_lowfat': [Errno 2] No such file or directory\n"
     ]
    }
   ],
   "source": [
    "! python3 Read_from_lowfat [tasks/flags] [--help]"
   ]
  },
  {
   "cell_type": "code",
   "execution_count": null,
   "id": "3107c3e3-345b-40b3-9897-a306fc2114dc",
   "metadata": {},
   "outputs": [],
   "source": []
  }
 ],
 "metadata": {
  "kernelspec": {
   "display_name": "Python 3 (ipykernel)",
   "language": "python",
   "name": "python3"
  },
  "language_info": {
   "codemirror_mode": {
    "name": "ipython",
    "version": 3
   },
   "file_extension": ".py",
   "mimetype": "text/x-python",
   "name": "python",
   "nbconvert_exporter": "python",
   "pygments_lexer": "ipython3",
   "version": "3.9.12"
  }
 },
 "nbformat": 4,
 "nbformat_minor": 5
}
