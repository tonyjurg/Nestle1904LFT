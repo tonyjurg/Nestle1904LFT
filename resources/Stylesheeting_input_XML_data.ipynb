{
 "cells": [
  {
   "cell_type": "markdown",
   "id": "863ea5b6-8483-4b9b-920d-910269110afe",
   "metadata": {},
   "source": [
    "# Applying style sheets to the input XML data (Nestle1904LFT)"
   ]
  },
  {
   "cell_type": "markdown",
   "id": "0bf16065-8841-46b3-baba-0a8a9715c3cb",
   "metadata": {},
   "source": [
    "## Table of content <a class=\"anchor\" id=\"TOC\"></a>\n",
    "* <a href=\"#bullet1\">1 - The standard included CSS</a>\n",
    "* <a href=\"#bullet2\">2 - Adding 'rules' CSS</a>\n"
   ]
  },
  {
   "cell_type": "markdown",
   "id": "09db7be2-3fff-42d6-bdce-548343582b2a",
   "metadata": {},
   "source": [
    "# 1 - The standard included CSS <a class=\"anchor\" id=\"bullet1\"></a>\n",
    "##### [Back to TOC](#TOC)\n",
    "\n",
    "The source XML files contain links to two style sheet files:\n",
    "\n",
    "```\n",
    "<?xml version=\"1.0\" encoding=\"UTF-8\"?>\n",
    "<?xml-stylesheet href=\"treedown.css\"?>\n",
    "<xml-stylesheet href=\"boxwood.css\"?>\n",
    "```\n"
   ]
  },
  {
   "cell_type": "markdown",
   "id": "20442ce4-0388-4a94-b9db-c59ccc6e2128",
   "metadata": {},
   "source": [
    "When opening the XML file in a browser, results like the following are shown:\n",
    "\n",
    "<img src=\"images/mat_1_1_standardcss.jpg\">"
   ]
  },
  {
   "cell_type": "markdown",
   "id": "30244a39-4130-423f-a403-f44fe4a85aa9",
   "metadata": {},
   "source": [
    "# 2 - Adding 'rules' CSS <a class=\"anchor\" id=\"bullet2\"></a>\n",
    "##### [Back to TOC](#TOC)\n",
    "\n",
    "It is also possible to include additional style sheets. For example adding 'rules.css':\n",
    "    \n",
    "```\n",
    "<?xml version=\"1.0\" encoding=\"UTF-8\"?>\n",
    "<?xml-stylesheet href=\"treedown.css\"?>\n",
    "<xml-stylesheet href=\"boxwood.css\"?>\n",
    "<xml-stylesheet href=\"rules.css\"?>\n",
    "```\n",
    "\n",
    "When opening the XML file in a browser, results like the following are shown:\n",
    "\n",
    "<img src=\"images/mat_1_1_add_rules_css.jpg\">\n",
    "\n",
    "Note: other CSS files are also available allowing additional formating."
   ]
  }
 ],
 "metadata": {
  "kernelspec": {
   "display_name": "Python 3 (ipykernel)",
   "language": "python",
   "name": "python3"
  },
  "language_info": {
   "codemirror_mode": {
    "name": "ipython",
    "version": 3
   },
   "file_extension": ".py",
   "mimetype": "text/x-python",
   "name": "python",
   "nbconvert_exporter": "python",
   "pygments_lexer": "ipython3",
   "version": "3.9.12"
  }
 },
 "nbformat": 4,
 "nbformat_minor": 5
}
