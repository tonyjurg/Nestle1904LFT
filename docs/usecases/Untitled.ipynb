{
 "cells": [
  {
   "cell_type": "code",
   "execution_count": 10,
   "id": "54b940be-1802-45b4-bc93-669e4d1ab137",
   "metadata": {},
   "outputs": [
    {
     "name": "stdout",
     "output_type": "stream",
     "text": [
      "Requirement already satisfied: widgetsnbextension in c:\\users\\tonyj\\anaconda3\\envs\\text-fabric\\lib\\site-packages (4.0.9)\n"
     ]
    }
   ],
   "source": [
    "!pip3 install widgetsnbextension -U\n"
   ]
  },
  {
   "cell_type": "code",
   "execution_count": 8,
   "id": "4e2f6d7d-7f8c-4675-9091-3b65d7c47c4e",
   "metadata": {},
   "outputs": [
    {
     "name": "stdout",
     "output_type": "stream",
     "text": [
      "Requirement already satisfied: ipywidgets in c:\\users\\tonyj\\anaconda3\\envs\\text-fabric\\lib\\site-packages (8.1.1)\n",
      "Requirement already satisfied: comm>=0.1.3 in c:\\users\\tonyj\\anaconda3\\envs\\text-fabric\\lib\\site-packages (from ipywidgets) (0.1.4)\n",
      "Requirement already satisfied: ipython>=6.1.0 in c:\\users\\tonyj\\anaconda3\\envs\\text-fabric\\lib\\site-packages (from ipywidgets) (8.15.0)\n",
      "Requirement already satisfied: traitlets>=4.3.1 in c:\\users\\tonyj\\anaconda3\\envs\\text-fabric\\lib\\site-packages (from ipywidgets) (5.7.1)\n",
      "Requirement already satisfied: widgetsnbextension~=4.0.9 in c:\\users\\tonyj\\anaconda3\\envs\\text-fabric\\lib\\site-packages (from ipywidgets) (4.0.9)\n",
      "Requirement already satisfied: jupyterlab-widgets~=3.0.9 in c:\\users\\tonyj\\anaconda3\\envs\\text-fabric\\lib\\site-packages (from ipywidgets) (3.0.9)\n",
      "Requirement already satisfied: backcall in c:\\users\\tonyj\\anaconda3\\envs\\text-fabric\\lib\\site-packages (from ipython>=6.1.0->ipywidgets) (0.2.0)\n",
      "Requirement already satisfied: decorator in c:\\users\\tonyj\\anaconda3\\envs\\text-fabric\\lib\\site-packages (from ipython>=6.1.0->ipywidgets) (5.1.1)\n",
      "Requirement already satisfied: jedi>=0.16 in c:\\users\\tonyj\\anaconda3\\envs\\text-fabric\\lib\\site-packages (from ipython>=6.1.0->ipywidgets) (0.18.1)\n",
      "Requirement already satisfied: matplotlib-inline in c:\\users\\tonyj\\anaconda3\\envs\\text-fabric\\lib\\site-packages (from ipython>=6.1.0->ipywidgets) (0.1.6)\n",
      "Requirement already satisfied: pickleshare in c:\\users\\tonyj\\anaconda3\\envs\\text-fabric\\lib\\site-packages (from ipython>=6.1.0->ipywidgets) (0.7.5)\n",
      "Requirement already satisfied: prompt-toolkit!=3.0.37,<3.1.0,>=3.0.30 in c:\\users\\tonyj\\anaconda3\\envs\\text-fabric\\lib\\site-packages (from ipython>=6.1.0->ipywidgets) (3.0.36)\n",
      "Requirement already satisfied: pygments>=2.4.0 in c:\\users\\tonyj\\anaconda3\\envs\\text-fabric\\lib\\site-packages (from ipython>=6.1.0->ipywidgets) (2.15.1)\n",
      "Requirement already satisfied: stack-data in c:\\users\\tonyj\\anaconda3\\envs\\text-fabric\\lib\\site-packages (from ipython>=6.1.0->ipywidgets) (0.2.0)\n",
      "Requirement already satisfied: colorama in c:\\users\\tonyj\\anaconda3\\envs\\text-fabric\\lib\\site-packages (from ipython>=6.1.0->ipywidgets) (0.4.6)\n",
      "Requirement already satisfied: parso<0.9.0,>=0.8.0 in c:\\users\\tonyj\\anaconda3\\envs\\text-fabric\\lib\\site-packages (from jedi>=0.16->ipython>=6.1.0->ipywidgets) (0.8.3)\n",
      "Requirement already satisfied: wcwidth in c:\\users\\tonyj\\anaconda3\\envs\\text-fabric\\lib\\site-packages (from prompt-toolkit!=3.0.37,<3.1.0,>=3.0.30->ipython>=6.1.0->ipywidgets) (0.2.5)\n",
      "Requirement already satisfied: executing in c:\\users\\tonyj\\anaconda3\\envs\\text-fabric\\lib\\site-packages (from stack-data->ipython>=6.1.0->ipywidgets) (0.8.3)\n",
      "Requirement already satisfied: asttokens in c:\\users\\tonyj\\anaconda3\\envs\\text-fabric\\lib\\site-packages (from stack-data->ipython>=6.1.0->ipywidgets) (2.0.5)\n",
      "Requirement already satisfied: pure-eval in c:\\users\\tonyj\\anaconda3\\envs\\text-fabric\\lib\\site-packages (from stack-data->ipython>=6.1.0->ipywidgets) (0.2.2)\n",
      "Requirement already satisfied: six in c:\\users\\tonyj\\anaconda3\\envs\\text-fabric\\lib\\site-packages (from asttokens->stack-data->ipython>=6.1.0->ipywidgets) (1.16.0)\n"
     ]
    }
   ],
   "source": [
    "!pip3 install ipywidgets -U"
   ]
  },
  {
   "cell_type": "code",
   "execution_count": null,
   "id": "14004ca7-eb7e-44df-9399-7e6c3ca32391",
   "metadata": {},
   "outputs": [],
   "source": []
  }
 ],
 "metadata": {
  "kernelspec": {
   "display_name": "Python 3 (ipykernel)",
   "language": "python",
   "name": "python3"
  },
  "language_info": {
   "codemirror_mode": {
    "name": "ipython",
    "version": 3
   },
   "file_extension": ".py",
   "mimetype": "text/x-python",
   "name": "python",
   "nbconvert_exporter": "python",
   "pygments_lexer": "ipython3",
   "version": "3.11.5"
  }
 },
 "nbformat": 4,
 "nbformat_minor": 5
}
